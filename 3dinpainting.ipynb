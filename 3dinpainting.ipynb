{
  "cells": [
    {
      "cell_type": "markdown",
      "metadata": {
        "id": "view-in-github",
        "colab_type": "text"
      },
      "source": [
        "<a href=\"https://colab.research.google.com/github/nikiibayat/3d-photo-inpainting/blob/master/3dinpainting.ipynb\" target=\"_parent\"><img src=\"https://colab.research.google.com/assets/colab-badge.svg\" alt=\"Open In Colab\"/></a>"
      ]
    },
    {
      "cell_type": "markdown",
      "source": [
        "## 3D Photography"
      ],
      "metadata": {
        "id": "ggYsiMfXV0fk"
      }
    },
    {
      "cell_type": "markdown",
      "source": [
        "#### Let's import all the libraries we need."
      ],
      "metadata": {
        "id": "4d-RD4_HV6ha"
      }
    },
    {
      "cell_type": "code",
      "source": [
        "from IPython.display import clear_output\n",
        "from google.colab import files"
      ],
      "metadata": {
        "id": "W5ZrJreuVy1j"
      },
      "execution_count": 5,
      "outputs": []
    },
    {
      "cell_type": "markdown",
      "source": [
        "#### Let's clone our repository to bring in all of our codebase"
      ],
      "metadata": {
        "id": "BKlnUX5ZWAYJ"
      }
    },
    {
      "cell_type": "code",
      "execution_count": 1,
      "metadata": {
        "colab": {
          "base_uri": "https://localhost:8080/"
        },
        "id": "4wkWm6CCaf2Y",
        "outputId": "7f9717e2-57f3-4b1d-ff11-0d1891bf3353"
      },
      "outputs": [
        {
          "output_type": "stream",
          "name": "stdout",
          "text": [
            "Cloning into '3d-photo-inpainting'...\n",
            "remote: Enumerating objects: 385, done.\u001b[K\n",
            "remote: Counting objects: 100% (199/199), done.\u001b[K\n",
            "remote: Compressing objects: 100% (48/48), done.\u001b[K\n",
            "remote: Total 385 (delta 163), reused 154 (delta 151), pack-reused 186\u001b[K\n",
            "Receiving objects: 100% (385/385), 130.13 MiB | 17.47 MiB/s, done.\n",
            "Resolving deltas: 100% (212/212), done.\n"
          ]
        }
      ],
      "source": [
        "!git clone https://github.com/nikiibayat/3d-photo-inpainting.git"
      ]
    },
    {
      "cell_type": "code",
      "execution_count": 6,
      "metadata": {
        "id": "MaSaG0mabOc-"
      },
      "outputs": [],
      "source": [
        "%cd 3d-photo-inpainting/\n",
        "! sh download.sh\n",
        "clear_output()\n",
        "print(\"all pretrained models are loaded in checkpoints directory.\")"
      ]
    },
    {
      "cell_type": "code",
      "execution_count": 7,
      "metadata": {
        "id": "nsQaW14bbrBF",
        "colab": {
          "base_uri": "https://localhost:8080/"
        },
        "outputId": "7962c64e-51f7-478b-96db-551481c8419e"
      },
      "outputs": [
        {
          "output_type": "stream",
          "name": "stdout",
          "text": [
            "all requirements are installed\n"
          ]
        }
      ],
      "source": [
        "! pip install -r requirements.txt\n",
        "clear_output()\n",
        "print(\"all requirements are installed\")"
      ]
    },
    {
      "cell_type": "code",
      "execution_count": 8,
      "metadata": {
        "id": "PkpNPNS0FLwV"
      },
      "outputs": [],
      "source": [
        "! mkdir \"./my_images\""
      ]
    },
    {
      "cell_type": "markdown",
      "source": [
        "### Now is the time to upload all your **JPG** images in my_images folder.\n",
        "\n",
        "* open the folder icon in the left side of this page.\n",
        "* open /content/3d-photo-inpainting\n",
        "* open my_images\n",
        "* click on 3 dots and select upload.\n",
        "* Upload all of your jpg images in my_images"
      ],
      "metadata": {
        "id": "brlfN5pKZtBs"
      }
    },
    {
      "cell_type": "code",
      "execution_count": 9,
      "metadata": {
        "colab": {
          "base_uri": "https://localhost:8080/"
        },
        "id": "zzyCI6dNsYlv",
        "outputId": "86c73d39-8b12-4b24-dd6b-50af763a4eb4"
      },
      "outputs": [
        {
          "metadata": {
            "tags": null
          },
          "name": "stdout",
          "output_type": "stream",
          "text": [
            "Starting image  cat.jpg\n",
            "Starting image  dog.jpg\n"
          ]
        }
      ],
      "source": [
        "import os\n",
        "import shutil\n",
        "\n",
        "# place all your input images in ./my_images\n",
        "src_dir = \"./my_images\"\n",
        "\n",
        "if os.path.exists(\"./video\"):\n",
        "    shutil.rmtree(\"./video\")\n",
        "os.mkdir(\"./video\")\n",
        "\n",
        "if os.path.exists(\"./depth\"):\n",
        "    shutil.rmtree(\"./depth\")\n",
        "os.mkdir(\"./depth\")\n",
        "\n",
        "for image in os.listdir(src_dir):\n",
        "  if os.path.exists(\"./image\"):\n",
        "    shutil.rmtree(\"./image\")\n",
        "  os.mkdir(\"./image\")\n",
        "\n",
        "  print(\"Starting image \", image)\n",
        "  command1 = \"cp \" + src_dir+\"/\" + image + \" ./image\"\n",
        "  os.system(command1)\n",
        "\n",
        "  os.system(\"python main.py --config argument.yml\")\n"
      ]
    },
    {
      "cell_type": "code",
      "source": [
        "from google.colab import files\n",
        "!zip -r dolly_zoom.zip /content/3d-photo-inpainting/video\n",
        "files.download('/content/3d-photo-inpainting/dolly_zoom.zip') "
      ],
      "metadata": {
        "colab": {
          "base_uri": "https://localhost:8080/",
          "height": 70
        },
        "id": "lSG3qZdcYaTB",
        "outputId": "b36a01a7-9f44-47a3-a916-3a38a5121f25"
      },
      "execution_count": 12,
      "outputs": [
        {
          "output_type": "stream",
          "name": "stdout",
          "text": [
            "  adding: content/3d-photo-inpainting/video/ (stored 0%)\n",
            "  adding: content/3d-photo-inpainting/video/dog_dolly-zoom-in.mp4 (deflated 1%)\n",
            "  adding: content/3d-photo-inpainting/video/cat_dolly-zoom-in.mp4 (deflated 1%)\n"
          ]
        },
        {
          "output_type": "display_data",
          "data": {
            "text/plain": [
              "<IPython.core.display.Javascript object>"
            ],
            "application/javascript": [
              "\n",
              "    async function download(id, filename, size) {\n",
              "      if (!google.colab.kernel.accessAllowed) {\n",
              "        return;\n",
              "      }\n",
              "      const div = document.createElement('div');\n",
              "      const label = document.createElement('label');\n",
              "      label.textContent = `Downloading \"${filename}\": `;\n",
              "      div.appendChild(label);\n",
              "      const progress = document.createElement('progress');\n",
              "      progress.max = size;\n",
              "      div.appendChild(progress);\n",
              "      document.body.appendChild(div);\n",
              "\n",
              "      const buffers = [];\n",
              "      let downloaded = 0;\n",
              "\n",
              "      const channel = await google.colab.kernel.comms.open(id);\n",
              "      // Send a message to notify the kernel that we're ready.\n",
              "      channel.send({})\n",
              "\n",
              "      for await (const message of channel.messages) {\n",
              "        // Send a message to notify the kernel that we're ready.\n",
              "        channel.send({})\n",
              "        if (message.buffers) {\n",
              "          for (const buffer of message.buffers) {\n",
              "            buffers.push(buffer);\n",
              "            downloaded += buffer.byteLength;\n",
              "            progress.value = downloaded;\n",
              "          }\n",
              "        }\n",
              "      }\n",
              "      const blob = new Blob(buffers, {type: 'application/binary'});\n",
              "      const a = document.createElement('a');\n",
              "      a.href = window.URL.createObjectURL(blob);\n",
              "      a.download = filename;\n",
              "      div.appendChild(a);\n",
              "      a.click();\n",
              "      div.remove();\n",
              "    }\n",
              "  "
            ]
          },
          "metadata": {}
        },
        {
          "output_type": "display_data",
          "data": {
            "text/plain": [
              "<IPython.core.display.Javascript object>"
            ],
            "application/javascript": [
              "download(\"download_4c246303-d6c7-4393-ba81-4b640763ec5c\", \"dolly_zoom.zip\", 679312)"
            ]
          },
          "metadata": {}
        }
      ]
    }
  ],
  "metadata": {
    "accelerator": "GPU",
    "colab": {
      "provenance": [],
      "authorship_tag": "ABX9TyP9VFl2BSU72aA+hxcIntep",
      "include_colab_link": true
    },
    "gpuClass": "standard",
    "kernelspec": {
      "display_name": "Python 3",
      "name": "python3"
    },
    "language_info": {
      "name": "python"
    }
  },
  "nbformat": 4,
  "nbformat_minor": 0
}